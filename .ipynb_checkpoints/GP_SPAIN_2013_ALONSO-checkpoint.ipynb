{
 "cells": [
  {
   "cell_type": "markdown",
   "id": "8a928f1e",
   "metadata": {},
   "source": [
    "**SET UP**"
   ]
  },
  {
   "cell_type": "code",
   "execution_count": 2,
   "id": "c80ba24c",
   "metadata": {},
   "outputs": [],
   "source": [
    "import fastf1 as ff1\n",
    "from fastf1 import plotting\n",
    "import matplotlib.pyplot as plt\n",
    "import matplotlib as mpl\n",
    "from matplotlib import cm\n",
    "from matplotlib.collections import LineCollection\n",
    "import numpy as np\n",
    "import pandas as pd\n",
    "import seaborn as sns"
   ]
  },
  {
   "cell_type": "code",
   "execution_count": 3,
   "id": "755dfce6",
   "metadata": {},
   "outputs": [],
   "source": [
    "from fastf1.core import Laps\n",
    "from fastf1 import utils\n",
    "from fastf1 import plotting\n",
    "plotting.setup_mpl()\n",
    "from timple.timedelta import strftimedelta\n",
    "import warnings\n",
    "warnings.filterwarnings('ignore')  \n",
    "\n",
    "pd.set_option('display.max_columns', None)"
   ]
  },
  {
   "cell_type": "code",
   "execution_count": 4,
   "id": "252ea41e",
   "metadata": {},
   "outputs": [],
   "source": [
    "import collections\n",
    "from functools import cached_property\n",
    "import logging\n",
    "import warnings"
   ]
  },
  {
   "cell_type": "code",
   "execution_count": 5,
   "id": "c7482647",
   "metadata": {},
   "outputs": [],
   "source": [
    "# Configurar gráficos\n",
    "ff1.plotting.setup_mpl()\n",
    "\n",
    "# Habilitamos el cache en nuestro equipo\n",
    "ff1.Cache.enable_cache('cache') \n",
    "\n",
    "# Ignoramos los Warning\n",
    "pd.options.mode.chained_assignment = None "
   ]
  },
  {
   "cell_type": "code",
   "execution_count": 7,
   "id": "c89855cc",
   "metadata": {},
   "outputs": [
    {
     "ename": "SyntaxError",
     "evalue": "invalid syntax (4235457696.py, line 2)",
     "output_type": "error",
     "traceback": [
      "\u001b[0;36m  Input \u001b[0;32mIn [7]\u001b[0;36m\u001b[0m\n\u001b[0;31m    print(Abu Dhabi .date) #para encontrar el dia exacto de la carrera y buscar info\u001b[0m\n\u001b[0m              ^\u001b[0m\n\u001b[0;31mSyntaxError\u001b[0m\u001b[0;31m:\u001b[0m invalid syntax\n"
     ]
    }
   ],
   "source": [
    "abu_dhabi_race = ff1.get_session(20, 'Montmelo', 'R')\n",
    "print(abu_dhabi_race .date) #para encontrar el dia exacto de la carrera y buscar info"
   ]
  },
  {
   "cell_type": "code",
   "execution_count": null,
   "id": "02e430eb",
   "metadata": {},
   "outputs": [],
   "source": []
  }
 ],
 "metadata": {
  "kernelspec": {
   "display_name": "Python 3 (ipykernel)",
   "language": "python",
   "name": "python3"
  },
  "language_info": {
   "codemirror_mode": {
    "name": "ipython",
    "version": 3
   },
   "file_extension": ".py",
   "mimetype": "text/x-python",
   "name": "python",
   "nbconvert_exporter": "python",
   "pygments_lexer": "ipython3",
   "version": "3.9.12"
  }
 },
 "nbformat": 4,
 "nbformat_minor": 5
}
