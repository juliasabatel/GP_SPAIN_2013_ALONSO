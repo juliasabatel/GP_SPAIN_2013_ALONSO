{
 "cells": [
  {
   "cell_type": "markdown",
   "id": "8a928f1e",
   "metadata": {},
   "source": [
    "**SET UP**"
   ]
  },
  {
   "cell_type": "code",
   "execution_count": 2,
   "id": "c80ba24c",
   "metadata": {},
   "outputs": [],
   "source": [
    "import fastf1 as ff1\n",
    "from fastf1 import plotting\n",
    "import matplotlib.pyplot as plt\n",
    "import matplotlib as mpl\n",
    "from matplotlib import cm\n",
    "from matplotlib.collections import LineCollection\n",
    "import numpy as np\n",
    "import pandas as pd\n",
    "import seaborn as sns"
   ]
  },
  {
   "cell_type": "code",
   "execution_count": 3,
   "id": "755dfce6",
   "metadata": {},
   "outputs": [],
   "source": [
    "from fastf1.core import Laps\n",
    "from fastf1 import utils\n",
    "from fastf1 import plotting\n",
    "plotting.setup_mpl()\n",
    "from timple.timedelta import strftimedelta\n",
    "import warnings\n",
    "warnings.filterwarnings('ignore')  \n",
    "\n",
    "pd.set_option('display.max_columns', None)"
   ]
  },
  {
   "cell_type": "code",
   "execution_count": 4,
   "id": "252ea41e",
   "metadata": {},
   "outputs": [],
   "source": [
    "import collections\n",
    "from functools import cached_property\n",
    "import logging\n",
    "import warnings"
   ]
  },
  {
   "cell_type": "code",
   "execution_count": 5,
   "id": "c7482647",
   "metadata": {},
   "outputs": [],
   "source": [
    "# Configurar gráficos\n",
    "ff1.plotting.setup_mpl()\n",
    "\n",
    "# Habilitamos el cache en nuestro equipo\n",
    "ff1.Cache.enable_cache('cache') \n",
    "\n",
    "# Ignoramos los Warning\n",
    "pd.options.mode.chained_assignment = None "
   ]
  },
  {
   "cell_type": "code",
   "execution_count": 20,
   "id": "c89855cc",
   "metadata": {},
   "outputs": [],
   "source": [
    "race = ff1.get_session(2023, 'Monaco', 'R')\n",
    "quali = ff1.get_session(2023, 'Monaco', 'Q')"
   ]
  },
  {
   "cell_type": "code",
   "execution_count": 21,
   "id": "8c90dc5b",
   "metadata": {},
   "outputs": [
    {
     "data": {
      "text/plain": [
       "<fastf1.core.Session at 0x7feaa59e31c0>"
      ]
     },
     "execution_count": 21,
     "metadata": {},
     "output_type": "execute_result"
    }
   ],
   "source": [
    "race"
   ]
  },
  {
   "cell_type": "code",
   "execution_count": null,
   "id": "df045481",
   "metadata": {},
   "outputs": [
    {
     "name": "stderr",
     "output_type": "stream",
     "text": [
      "core           INFO \tLoading data for Monaco Grand Prix - Race [v2.3.0]\n",
      "api            INFO \tNo cached data found for driver_info. Loading data...\n",
      "api            INFO \tFetching driver list...\n",
      "api            INFO \tData has been written to cache!\n",
      "core        WARNING \tFailed to load data from Ergast API! (This is expected for recent sessions)\n",
      "api            INFO \tNo cached data found for timing_data. Loading data...\n",
      "api            INFO \tFetching timing data...\n",
      "api            INFO \tParsing timing data...\n",
      "api            INFO \tData has been written to cache!\n",
      "api            INFO \tNo cached data found for timing_app_data. Loading data...\n",
      "api            INFO \tFetching timing app data...\n",
      "api            INFO \tData has been written to cache!\n",
      "core           INFO \tProcessing timing data...\n",
      "api            INFO \tNo cached data found for session_status_data. Loading data...\n",
      "api            INFO \tFetching session status data...\n",
      "api            INFO \tData has been written to cache!\n",
      "api            INFO \tNo cached data found for track_status_data. Loading data...\n",
      "api            INFO \tFetching track status data...\n",
      "api            INFO \tData has been written to cache!\n",
      "api            INFO \tNo cached data found for car_data. Loading data...\n",
      "api            INFO \tFetching car data...\n",
      "api            INFO \tParsing car data...\n",
      "api            INFO \tData has been written to cache!\n",
      "api            INFO \tNo cached data found for position_data. Loading data...\n",
      "api            INFO \tFetching position data...\n",
      "api            INFO \tParsing position data...\n",
      "api            INFO \tData has been written to cache!\n",
      "api            INFO \tNo cached data found for weather_data. Loading data...\n",
      "api            INFO \tFetching weather data...\n",
      "api            INFO \tData has been written to cache!\n",
      "api            INFO \tNo cached data found for race_control_messages. Loading data...\n",
      "api            INFO \tFetching race control messages...\n",
      "api            INFO \tData has been written to cache!\n",
      "core           INFO \tFinished loading data for 20 drivers: ['1', '27', '20', '2', '77', '18', '23', '21', '81', '4', '22', '63', '10', '16', '44', '55', '31', '14', '24', '11']\n",
      "core           INFO \tLoading data for Monaco Grand Prix - Qualifying [v2.3.0]\n",
      "api            INFO \tNo cached data found for driver_info. Loading data...\n",
      "api            INFO \tFetching driver list...\n",
      "api            INFO \tData has been written to cache!\n",
      "core        WARNING \tFailed to load data from Ergast API! (This is expected for recent sessions)\n",
      "api            INFO \tNo cached data found for timing_data. Loading data...\n",
      "api            INFO \tFetching timing data...\n",
      "api            INFO \tParsing timing data...\n",
      "api            INFO \tData has been written to cache!\n",
      "api            INFO \tNo cached data found for timing_app_data. Loading data...\n",
      "api            INFO \tFetching timing app data...\n",
      "api            INFO \tData has been written to cache!\n",
      "core           INFO \tProcessing timing data...\n",
      "api            INFO \tNo cached data found for session_status_data. Loading data...\n",
      "api            INFO \tFetching session status data...\n",
      "api            INFO \tData has been written to cache!\n",
      "api            INFO \tNo cached data found for track_status_data. Loading data...\n",
      "api            INFO \tFetching track status data...\n",
      "api            INFO \tData has been written to cache!\n",
      "api            INFO \tNo cached data found for car_data. Loading data...\n",
      "api            INFO \tFetching car data...\n",
      "api            INFO \tParsing car data...\n"
     ]
    }
   ],
   "source": [
    "laps_r = race.load_laps(with_telemetry=True)\n",
    "laps_q = quali.load_laps(with_telemetry=True)"
   ]
  },
  {
   "cell_type": "code",
   "execution_count": null,
   "id": "c15622f4",
   "metadata": {},
   "outputs": [],
   "source": []
  }
 ],
 "metadata": {
  "kernelspec": {
   "display_name": "Python 3 (ipykernel)",
   "language": "python",
   "name": "python3"
  },
  "language_info": {
   "codemirror_mode": {
    "name": "ipython",
    "version": 3
   },
   "file_extension": ".py",
   "mimetype": "text/x-python",
   "name": "python",
   "nbconvert_exporter": "python",
   "pygments_lexer": "ipython3",
   "version": "3.9.12"
  }
 },
 "nbformat": 4,
 "nbformat_minor": 5
}
