{
 "cells": [
  {
   "cell_type": "markdown",
   "id": "8a928f1e",
   "metadata": {},
   "source": [
    "**SET UP**"
   ]
  },
  {
   "cell_type": "code",
   "execution_count": 1,
   "id": "c80ba24c",
   "metadata": {},
   "outputs": [],
   "source": [
    "import fastf1 as ff1\n",
    "from fastf1 import plotting\n",
    "import matplotlib.pyplot as plt\n",
    "import matplotlib as mpl\n",
    "from matplotlib import cm\n",
    "from matplotlib.collections import LineCollection\n",
    "import numpy as np\n",
    "import pandas as pd\n",
    "import seaborn as sns"
   ]
  },
  {
   "cell_type": "code",
   "execution_count": 2,
   "id": "755dfce6",
   "metadata": {},
   "outputs": [],
   "source": [
    "from fastf1.core import Laps\n",
    "from fastf1 import utils\n",
    "from fastf1 import plotting\n",
    "plotting.setup_mpl()\n",
    "from timple.timedelta import strftimedelta\n",
    "import warnings\n",
    "warnings.filterwarnings('ignore')  \n",
    "\n",
    "pd.set_option('display.max_columns', None)"
   ]
  },
  {
   "cell_type": "code",
   "execution_count": 3,
   "id": "252ea41e",
   "metadata": {},
   "outputs": [],
   "source": [
    "import collections\n",
    "from functools import cached_property\n",
    "import logging\n",
    "import warnings"
   ]
  },
  {
   "cell_type": "code",
   "execution_count": 4,
   "id": "c7482647",
   "metadata": {},
   "outputs": [],
   "source": [
    "# Configurar gráficos\n",
    "ff1.plotting.setup_mpl()\n",
    "\n",
    "# Habilitamos el cache en nuestro equipo\n",
    "ff1.Cache.enable_cache('cache') \n",
    "\n",
    "# Ignoramos los Warning\n",
    "pd.options.mode.chained_assignment = None "
   ]
  },
  {
   "cell_type": "code",
   "execution_count": 13,
   "id": "c89855cc",
   "metadata": {},
   "outputs": [],
   "source": [
    "race = ff1.get_session(2023, 'Monaco', 'R')\n",
    "quali = ff1.get_session(2023, 'Monaco', 'Q')"
   ]
  },
  {
   "cell_type": "code",
   "execution_count": 14,
   "id": "5f945914",
   "metadata": {},
   "outputs": [
    {
     "data": {
      "text/plain": [
       "<fastf1.core.Session at 0x7fb6519f5a30>"
      ]
     },
     "execution_count": 14,
     "metadata": {},
     "output_type": "execute_result"
    }
   ],
   "source": [
    "race"
   ]
  },
  {
   "cell_type": "code",
   "execution_count": 15,
   "id": "74cdf1ca",
   "metadata": {},
   "outputs": [
    {
     "name": "stderr",
     "output_type": "stream",
     "text": [
      "core           INFO \tLoading data for Monaco Grand Prix - Race [v2.3.0]\n",
      "api            INFO \tUsing cached data for driver_info\n",
      "core        WARNING \tFailed to load data from Ergast API! (This is expected for recent sessions)\n",
      "api            INFO \tUsing cached data for timing_data\n",
      "api            INFO \tUsing cached data for timing_app_data\n",
      "core           INFO \tProcessing timing data...\n",
      "api            INFO \tUsing cached data for session_status_data\n",
      "api            INFO \tUsing cached data for track_status_data\n",
      "api            INFO \tUsing cached data for car_data\n",
      "api            INFO \tUsing cached data for position_data\n",
      "api            INFO \tUsing cached data for weather_data\n",
      "api            INFO \tUsing cached data for race_control_messages\n",
      "core           INFO \tFinished loading data for 20 drivers: ['1', '27', '20', '2', '77', '18', '23', '21', '81', '4', '22', '63', '10', '16', '44', '55', '31', '14', '24', '11']\n",
      "core           INFO \tLoading data for Monaco Grand Prix - Qualifying [v2.3.0]\n",
      "api            INFO \tUsing cached data for driver_info\n",
      "core        WARNING \tFailed to load data from Ergast API! (This is expected for recent sessions)\n",
      "api            INFO \tUsing cached data for timing_data\n",
      "api            INFO \tUsing cached data for timing_app_data\n",
      "core           INFO \tProcessing timing data...\n",
      "api            INFO \tUsing cached data for session_status_data\n",
      "api            INFO \tUsing cached data for track_status_data\n",
      "api            INFO \tUsing cached data for car_data\n",
      "api            INFO \tUsing cached data for position_data\n",
      "api            INFO \tUsing cached data for weather_data\n",
      "api            INFO \tUsing cached data for race_control_messages\n",
      "core           INFO \tFinished loading data for 20 drivers: ['1', '23', '2', '24', '22', '14', '27', '20', '63', '77', '31', '44', '16', '10', '4', '55', '18', '11', '81', '21']\n"
     ]
    }
   ],
   "source": [
    "laps_r = race.load_laps(with_telemetry=True)\n",
    "laps_q = quali.load_laps(with_telemetry=True)"
   ]
  },
  {
   "cell_type": "code",
   "execution_count": 16,
   "id": "31a89a17",
   "metadata": {},
   "outputs": [
    {
     "data": {
      "text/html": [
       "<div>\n",
       "<style scoped>\n",
       "    .dataframe tbody tr th:only-of-type {\n",
       "        vertical-align: middle;\n",
       "    }\n",
       "\n",
       "    .dataframe tbody tr th {\n",
       "        vertical-align: top;\n",
       "    }\n",
       "\n",
       "    .dataframe thead th {\n",
       "        text-align: right;\n",
       "    }\n",
       "</style>\n",
       "<table border=\"1\" class=\"dataframe\">\n",
       "  <thead>\n",
       "    <tr style=\"text-align: right;\">\n",
       "      <th></th>\n",
       "      <th>Time</th>\n",
       "      <th>DriverNumber</th>\n",
       "      <th>LapTime</th>\n",
       "      <th>LapNumber</th>\n",
       "      <th>PitOutTime</th>\n",
       "      <th>PitInTime</th>\n",
       "      <th>Sector1Time</th>\n",
       "      <th>Sector2Time</th>\n",
       "      <th>Sector3Time</th>\n",
       "      <th>Sector1SessionTime</th>\n",
       "      <th>Sector2SessionTime</th>\n",
       "      <th>Sector3SessionTime</th>\n",
       "      <th>SpeedI1</th>\n",
       "      <th>SpeedI2</th>\n",
       "      <th>SpeedFL</th>\n",
       "      <th>SpeedST</th>\n",
       "      <th>IsPersonalBest</th>\n",
       "      <th>Compound</th>\n",
       "      <th>TyreLife</th>\n",
       "      <th>FreshTyre</th>\n",
       "      <th>Stint</th>\n",
       "      <th>LapStartTime</th>\n",
       "      <th>Team</th>\n",
       "      <th>Driver</th>\n",
       "      <th>TrackStatus</th>\n",
       "      <th>IsAccurate</th>\n",
       "      <th>LapStartDate</th>\n",
       "    </tr>\n",
       "  </thead>\n",
       "  <tbody>\n",
       "    <tr>\n",
       "      <th>0</th>\n",
       "      <td>0 days 01:03:27.458000</td>\n",
       "      <td>1</td>\n",
       "      <td>NaT</td>\n",
       "      <td>1</td>\n",
       "      <td>0 days 00:11:44.707000</td>\n",
       "      <td>NaT</td>\n",
       "      <td>NaT</td>\n",
       "      <td>0 days 00:00:37.420000</td>\n",
       "      <td>0 days 00:00:21.053000</td>\n",
       "      <td>NaT</td>\n",
       "      <td>0 days 01:03:06.559000</td>\n",
       "      <td>0 days 01:03:27.543000</td>\n",
       "      <td>178.0</td>\n",
       "      <td>182.0</td>\n",
       "      <td>255.0</td>\n",
       "      <td>271.0</td>\n",
       "      <td>False</td>\n",
       "      <td>MEDIUM</td>\n",
       "      <td>1.0</td>\n",
       "      <td>True</td>\n",
       "      <td>1</td>\n",
       "      <td>0 days 01:02:02.950000</td>\n",
       "      <td>Red Bull Racing</td>\n",
       "      <td>VER</td>\n",
       "      <td>2</td>\n",
       "      <td>False</td>\n",
       "      <td>2023-05-28 13:03:03.927</td>\n",
       "    </tr>\n",
       "    <tr>\n",
       "      <th>1</th>\n",
       "      <td>0 days 01:04:46.825000</td>\n",
       "      <td>1</td>\n",
       "      <td>0 days 00:01:19.367000</td>\n",
       "      <td>2</td>\n",
       "      <td>NaT</td>\n",
       "      <td>NaT</td>\n",
       "      <td>0 days 00:00:20.954000</td>\n",
       "      <td>0 days 00:00:37.366000</td>\n",
       "      <td>0 days 00:00:21.047000</td>\n",
       "      <td>0 days 01:03:48.412000</td>\n",
       "      <td>0 days 01:04:25.778000</td>\n",
       "      <td>0 days 01:04:46.825000</td>\n",
       "      <td>186.0</td>\n",
       "      <td>182.0</td>\n",
       "      <td>256.0</td>\n",
       "      <td>259.0</td>\n",
       "      <td>False</td>\n",
       "      <td>MEDIUM</td>\n",
       "      <td>2.0</td>\n",
       "      <td>True</td>\n",
       "      <td>1</td>\n",
       "      <td>0 days 01:03:27.458000</td>\n",
       "      <td>Red Bull Racing</td>\n",
       "      <td>VER</td>\n",
       "      <td>1</td>\n",
       "      <td>True</td>\n",
       "      <td>2023-05-28 13:04:28.435</td>\n",
       "    </tr>\n",
       "    <tr>\n",
       "      <th>2</th>\n",
       "      <td>0 days 01:06:05.899000</td>\n",
       "      <td>1</td>\n",
       "      <td>0 days 00:01:19.074000</td>\n",
       "      <td>3</td>\n",
       "      <td>NaT</td>\n",
       "      <td>NaT</td>\n",
       "      <td>0 days 00:00:20.854000</td>\n",
       "      <td>0 days 00:00:37.288000</td>\n",
       "      <td>0 days 00:00:20.932000</td>\n",
       "      <td>0 days 01:05:07.679000</td>\n",
       "      <td>0 days 01:05:44.967000</td>\n",
       "      <td>0 days 01:06:05.899000</td>\n",
       "      <td>193.0</td>\n",
       "      <td>183.0</td>\n",
       "      <td>255.0</td>\n",
       "      <td>260.0</td>\n",
       "      <td>False</td>\n",
       "      <td>MEDIUM</td>\n",
       "      <td>3.0</td>\n",
       "      <td>True</td>\n",
       "      <td>1</td>\n",
       "      <td>0 days 01:04:46.825000</td>\n",
       "      <td>Red Bull Racing</td>\n",
       "      <td>VER</td>\n",
       "      <td>1</td>\n",
       "      <td>True</td>\n",
       "      <td>2023-05-28 13:05:47.802</td>\n",
       "    </tr>\n",
       "    <tr>\n",
       "      <th>3</th>\n",
       "      <td>0 days 01:07:24.028000</td>\n",
       "      <td>1</td>\n",
       "      <td>0 days 00:01:18.129000</td>\n",
       "      <td>4</td>\n",
       "      <td>NaT</td>\n",
       "      <td>NaT</td>\n",
       "      <td>0 days 00:00:20.835000</td>\n",
       "      <td>0 days 00:00:36.637000</td>\n",
       "      <td>0 days 00:00:20.657000</td>\n",
       "      <td>0 days 01:06:26.734000</td>\n",
       "      <td>0 days 01:07:03.371000</td>\n",
       "      <td>0 days 01:07:24.028000</td>\n",
       "      <td>192.0</td>\n",
       "      <td>187.0</td>\n",
       "      <td>256.0</td>\n",
       "      <td>259.0</td>\n",
       "      <td>False</td>\n",
       "      <td>MEDIUM</td>\n",
       "      <td>4.0</td>\n",
       "      <td>True</td>\n",
       "      <td>1</td>\n",
       "      <td>0 days 01:06:05.899000</td>\n",
       "      <td>Red Bull Racing</td>\n",
       "      <td>VER</td>\n",
       "      <td>1</td>\n",
       "      <td>True</td>\n",
       "      <td>2023-05-28 13:07:06.876</td>\n",
       "    </tr>\n",
       "    <tr>\n",
       "      <th>4</th>\n",
       "      <td>0 days 01:08:42.047000</td>\n",
       "      <td>1</td>\n",
       "      <td>0 days 00:01:18.019000</td>\n",
       "      <td>5</td>\n",
       "      <td>NaT</td>\n",
       "      <td>NaT</td>\n",
       "      <td>0 days 00:00:20.745000</td>\n",
       "      <td>0 days 00:00:36.734000</td>\n",
       "      <td>0 days 00:00:20.540000</td>\n",
       "      <td>0 days 01:07:44.773000</td>\n",
       "      <td>0 days 01:08:21.507000</td>\n",
       "      <td>0 days 01:08:42.047000</td>\n",
       "      <td>188.0</td>\n",
       "      <td>187.0</td>\n",
       "      <td>256.0</td>\n",
       "      <td>260.0</td>\n",
       "      <td>False</td>\n",
       "      <td>MEDIUM</td>\n",
       "      <td>5.0</td>\n",
       "      <td>True</td>\n",
       "      <td>1</td>\n",
       "      <td>0 days 01:07:24.028000</td>\n",
       "      <td>Red Bull Racing</td>\n",
       "      <td>VER</td>\n",
       "      <td>1</td>\n",
       "      <td>True</td>\n",
       "      <td>2023-05-28 13:08:25.005</td>\n",
       "    </tr>\n",
       "  </tbody>\n",
       "</table>\n",
       "</div>"
      ],
      "text/plain": [
       "                    Time DriverNumber                LapTime  LapNumber  \\\n",
       "0 0 days 01:03:27.458000            1                    NaT          1   \n",
       "1 0 days 01:04:46.825000            1 0 days 00:01:19.367000          2   \n",
       "2 0 days 01:06:05.899000            1 0 days 00:01:19.074000          3   \n",
       "3 0 days 01:07:24.028000            1 0 days 00:01:18.129000          4   \n",
       "4 0 days 01:08:42.047000            1 0 days 00:01:18.019000          5   \n",
       "\n",
       "              PitOutTime PitInTime            Sector1Time  \\\n",
       "0 0 days 00:11:44.707000       NaT                    NaT   \n",
       "1                    NaT       NaT 0 days 00:00:20.954000   \n",
       "2                    NaT       NaT 0 days 00:00:20.854000   \n",
       "3                    NaT       NaT 0 days 00:00:20.835000   \n",
       "4                    NaT       NaT 0 days 00:00:20.745000   \n",
       "\n",
       "             Sector2Time            Sector3Time     Sector1SessionTime  \\\n",
       "0 0 days 00:00:37.420000 0 days 00:00:21.053000                    NaT   \n",
       "1 0 days 00:00:37.366000 0 days 00:00:21.047000 0 days 01:03:48.412000   \n",
       "2 0 days 00:00:37.288000 0 days 00:00:20.932000 0 days 01:05:07.679000   \n",
       "3 0 days 00:00:36.637000 0 days 00:00:20.657000 0 days 01:06:26.734000   \n",
       "4 0 days 00:00:36.734000 0 days 00:00:20.540000 0 days 01:07:44.773000   \n",
       "\n",
       "      Sector2SessionTime     Sector3SessionTime  SpeedI1  SpeedI2  SpeedFL  \\\n",
       "0 0 days 01:03:06.559000 0 days 01:03:27.543000    178.0    182.0    255.0   \n",
       "1 0 days 01:04:25.778000 0 days 01:04:46.825000    186.0    182.0    256.0   \n",
       "2 0 days 01:05:44.967000 0 days 01:06:05.899000    193.0    183.0    255.0   \n",
       "3 0 days 01:07:03.371000 0 days 01:07:24.028000    192.0    187.0    256.0   \n",
       "4 0 days 01:08:21.507000 0 days 01:08:42.047000    188.0    187.0    256.0   \n",
       "\n",
       "   SpeedST  IsPersonalBest Compound  TyreLife FreshTyre  Stint  \\\n",
       "0    271.0           False   MEDIUM       1.0      True      1   \n",
       "1    259.0           False   MEDIUM       2.0      True      1   \n",
       "2    260.0           False   MEDIUM       3.0      True      1   \n",
       "3    259.0           False   MEDIUM       4.0      True      1   \n",
       "4    260.0           False   MEDIUM       5.0      True      1   \n",
       "\n",
       "            LapStartTime             Team Driver TrackStatus IsAccurate  \\\n",
       "0 0 days 01:02:02.950000  Red Bull Racing    VER           2      False   \n",
       "1 0 days 01:03:27.458000  Red Bull Racing    VER           1       True   \n",
       "2 0 days 01:04:46.825000  Red Bull Racing    VER           1       True   \n",
       "3 0 days 01:06:05.899000  Red Bull Racing    VER           1       True   \n",
       "4 0 days 01:07:24.028000  Red Bull Racing    VER           1       True   \n",
       "\n",
       "             LapStartDate  \n",
       "0 2023-05-28 13:03:03.927  \n",
       "1 2023-05-28 13:04:28.435  \n",
       "2 2023-05-28 13:05:47.802  \n",
       "3 2023-05-28 13:07:06.876  \n",
       "4 2023-05-28 13:08:25.005  "
      ]
     },
     "execution_count": 16,
     "metadata": {},
     "output_type": "execute_result"
    }
   ],
   "source": [
    "laps_r.head()"
   ]
  },
  {
   "cell_type": "code",
   "execution_count": 17,
   "id": "7514dcbf",
   "metadata": {},
   "outputs": [
    {
     "name": "stdout",
     "output_type": "stream",
     "text": [
      "Vuelta más rápida:  0 days 00:01:15.650000\n",
      "Tipo de neumático:  HARD\n",
      "Piloto:  HAM\n"
     ]
    }
   ],
   "source": [
    "fastest_lap = laps_r.pick_fastest()\n",
    "print(f'Vuelta más rápida: ',fastest_lap['LapTime'])\n",
    "print(f'Tipo de neumático: ',fastest_lap['Compound'])\n",
    "print(f'Piloto: ',fastest_lap['Driver'])"
   ]
  },
  {
   "cell_type": "code",
   "execution_count": 18,
   "id": "1bbdd8c5",
   "metadata": {},
   "outputs": [],
   "source": [
    "laps_drive1 = laps_r.pick_driver('VER')\n",
    "laps_drive2 = laps_r.pick_driver('HAM')\n",
    "laps_drive3 = laps_r.pick_driver('ALO')"
   ]
  },
  {
   "cell_type": "code",
   "execution_count": 19,
   "id": "711ff3db",
   "metadata": {},
   "outputs": [
    {
     "name": "stdout",
     "output_type": "stream",
     "text": [
      "78\n",
      "78\n"
     ]
    }
   ],
   "source": [
    "print(laps_drive1['LapNumber'].max())\n",
    "print(laps_drive2['LapNumber'].max())"
   ]
  },
  {
   "cell_type": "code",
   "execution_count": 20,
   "id": "ac2d4f6b",
   "metadata": {},
   "outputs": [
    {
     "data": {
      "image/png": "[encoded data removed]",
      "text/plain": [
       "<Figure size 720x432 with 1 Axes>"
      ]
     },
     "metadata": {},
     "output_type": "display_data"
    }
   ],
   "source": [
    "plt.rcParams['figure.figsize'] = [10, 6]\n",
    "\n",
    "fig, ax = plt.subplots()\n",
    "fig.suptitle(race.get_driver(\"VER\").name + \" & \"+ race.get_driver(\"ALO\").name + \" comparación de tiempos\")\n",
    "\n",
    "ax.plot(laps_drive1['LapNumber'], laps_drive1['LapTime'], label='HAM')\n",
    "ax.plot(laps_drive3['LapNumber'], laps_drive3['LapTime'], label='VER')\n",
    "ax.set(ylabel='Tiempo de carrera', xlabel='Vueltas')\n",
    "ax.legend(loc=\"upper center\")\n",
    "\n",
    "plt.show()"
   ]
  },
  {
   "cell_type": "code",
   "execution_count": 21,
   "id": "efe1db9b",
   "metadata": {},
   "outputs": [],
   "source": [
    "ver_lap = laps_r.pick_driver('VER')\n",
    "alo_lap = laps_r.pick_driver('ALO')"
   ]
  },
  {
   "cell_type": "code",
   "execution_count": 22,
   "id": "e6bfc434",
   "metadata": {},
   "outputs": [],
   "source": [
    "alo_lastlap=alo_lap[alo_lap.LapNumber==58]\n",
    "ver_lastlap=ver_lap[ver_lap.LapNumber==58]"
   ]
  },
  {
   "cell_type": "code",
   "execution_count": 23,
   "id": "57e94a7e",
   "metadata": {},
   "outputs": [
    {
     "name": "stdout",
     "output_type": "stream",
     "text": [
      "Tiempo de la útima vuelta Alonso:  1340   0 days 00:01:41.267000\n",
      "Name: LapTime, dtype: timedelta64[ns]\n",
      "Tiempo de la útima vuelta Verstappen:  57   0 days 00:01:42.808000\n",
      "Name: LapTime, dtype: timedelta64[ns]\n"
     ]
    }
   ],
   "source": [
    "print(f'Tiempo de la útima vuelta Alonso: ',alo_lastlap.LapTime)\n",
    "print(f'Tiempo de la útima vuelta Verstappen: ',ver_lastlap.LapTime)"
   ]
  },
  {
   "cell_type": "code",
   "execution_count": null,
   "id": "5afd54e2",
   "metadata": {},
   "outputs": [],
   "source": []
  }
 ],
 "metadata": {
  "kernelspec": {
   "display_name": "Python 3 (ipykernel)",
   "language": "python",
   "name": "python3"
  },
  "language_info": {
   "codemirror_mode": {
    "name": "ipython",
    "version": 3
   },
   "file_extension": ".py",
   "mimetype": "text/x-python",
   "name": "python",
   "nbconvert_exporter": "python",
   "pygments_lexer": "ipython3",
   "version": "3.9.12"
  }
 },
 "nbformat": 4,
 "nbformat_minor": 5
}
